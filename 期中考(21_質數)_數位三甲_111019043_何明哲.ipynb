{
  "cells": [
    {
      "cell_type": "markdown",
      "metadata": {
        "id": "view-in-github",
        "colab_type": "text"
      },
      "source": [
        "<a href=\"https://colab.research.google.com/github/VictorHo1114/2024_blackjack/blob/main/%E6%9C%9F%E4%B8%AD%E8%80%83(21_%E8%B3%AA%E6%95%B8)_%E6%95%B8%E4%BD%8D%E4%B8%89%E7%94%B2_111019043_%E4%BD%95%E6%98%8E%E5%93%B2.ipynb\" target=\"_parent\"><img src=\"https://colab.research.google.com/assets/colab-badge.svg\" alt=\"Open In Colab\"/></a>"
      ]
    },
    {
      "cell_type": "markdown",
      "source": [
        "![Logo - Simple Learn(裁掉白邊).png](data:image/png;base64,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)\n",
        "\n",
        "# **期中考試(程式題)**\n",
        "\n",
        "### **預計所需時間：90 分鐘**\n",
        "\n",
        "### **考試要求：**\n",
        "\n",
        "* 請下載附檔 11202_期中考(程式題)(Question).ipynb 後，務必先更改檔名(參考如下)，\n",
        "\n",
        "範例：王小明，學號 110919000，數位二甲，檔名則需改為**班級_學號_姓名.ipynb** 的格式\n",
        "\n",
        "\n",
        "(例如：**數位二甲_110919000_王小明.ipynb**)\n",
        "\n",
        "* 依據下面各題說明作答後，於考試規定時間內將作答後的檔案，上傳到 Classroom，同時寄給老師 (kclo@mail.ntue.edu.tw)，並副本給自己，**一定要記得夾檔**\n",
        "* 繳交截止時間：4/8(一) 11:50 AM (依考試公告時間為主)\n",
        "\n",
        "### **考試規定與記分原則：**\n",
        "* 不能以任何方式與他人互動討論(違者零分計算)\n",
        "* 考試期間請勿使用 ChatGPT 或類似工具輔助作答(違者零分計算)\n",
        "* 程式需註解，請盡量完整\n",
        "* 原則上無法執行不予給分，但可參酌程式說明註解，依情況給予部分分數\n",
        "* 若可執行但不符合題意時，原則上不予給分，將視情況部份給分\n",
        "\n",
        "#### **國立台北教育大學**\n",
        "#### **授課老師：羅光志 助理教授 (Steven Lo)**\n",
        "#### **Email：kclo@mail.ntue.edu.tw**\n",
        "**<font color=red> 【請遵守智慧財產權，不得非法影印、翻拍、重製及散播。僅供修課同學課堂參考使用】</font>**<br>\n",
        "**<font color=red> 【有任何特別使用需求需告知老師，取得同意後才可使用並載名出處】</font>**"
      ],
      "metadata": {
        "id": "PfYtoeeypx2w"
      }
    },
    {
      "cell_type": "markdown",
      "metadata": {
        "id": "RwK0yZBbIkV_"
      },
      "source": [
        "# 第一題：設計一個可判斷輸入數字是否為質數的程式(40分)\n",
        "\n",
        "### **條件：**\n",
        "1. 輸入一個數字，判斷是否為質數\n",
        "2. 如果不是質數，請證明原因(例如找出因數)\n",
        "\n",
        "### **測試案例：**\n",
        "\n",
        "**1. 若為質數時，參考輸出如下：**\n",
        "\n",
        "Enter a number: 23\n",
        "\n",
        "23 是一個質數\n",
        "\n",
        "**2. 不為質數時，參考輸出如下：**\n",
        "\n",
        "Enter a number: 28\n",
        "\n",
        "28 不是一個質數\n",
        "\n",
        "因為 2 x 14 = 28\n",
        "\n",
        "**3. 其他特殊情況，參考輸出如下：**\n",
        "\n",
        "Enter a number: 1\n",
        "\n",
        "1 不是一個質數"
      ]
    },
    {
      "cell_type": "code",
      "execution_count": null,
      "metadata": {
        "id": "kA0S7Dm1INo2",
        "colab": {
          "base_uri": "https://localhost:8080/"
        },
        "outputId": "3be04cb1-5e26-4511-c2c5-b36cb94fdb19"
      },
      "outputs": [
        {
          "output_type": "stream",
          "name": "stdout",
          "text": [
            "輸入一個數字0\n",
            "0 為質數\n"
          ]
        }
      ],
      "source": [
        "# 請將您的程式寫在下面 👇👇👇\n",
        "i = 2\n",
        "num = int(input(\"輸入一個數字\"))\n",
        "if(num==1):\n",
        "  print(num,\"不是質數\")\n",
        "elif(num==2):\n",
        "  print(num,\"是質數\") #1為非質數2為質數\n",
        "while(i<num):\n",
        "  if(num%i==0):  #用while迴圈配和if判斷，能被整除者必不是質數\n",
        "    print(num,\"不是質數\")\n",
        "    print(num,\"/\",i,\"=\",num/i)\n",
        "    break\n",
        "  else:\n",
        "    i = i+1 #除數+1\n",
        "else:\n",
        "  print(num,\"為質數\")\n",
        "\n",
        "\n",
        "\n",
        "\n",
        "\n",
        "\n",
        "\n"
      ]
    },
    {
      "cell_type": "markdown",
      "source": [
        "# 第二題：21點(Black Jack) 遊戲 (60分)"
      ],
      "metadata": {
        "id": "ru8zqL7s4nB0"
      }
    },
    {
      "cell_type": "markdown",
      "source": [
        "假設 21點(Black Jack) 遊戲規則如下：\n",
        "* 2點至10點的牌，以牌面的點數計算。J、Q、K 每張為10點。A可記為1點或為11點\n",
        "* 你可以根據牌面確認自己是否要再拿一張牌(拿牌Hit)還是不要(停牌Stand)\n",
        "* 牌面累計最大不得超過21點。\n",
        "\n",
        "請設計一個符合上述遊戲規則並且可以跟使用者進行互動的 21點樸克牌遊戲，每次亂數產生的牌必須含有花色及數字，且每張牌都不能重覆。\n",
        "\n",
        "一開始先發一張牌給玩家，告知目前點數，然後詢問要不要拿牌(HIit)或是不拿牌(停牌Stand)。之後每次發牌後都會告知目前累計點數，只要不超過21點都可以允許玩，一旦超過21點就不能再拿牌，並且會提示已爆。遊戲過程中需有相關提示語(含過程及輸贏提示)。程式碼則需有詳細註解。\n",
        "\n",
        "參考資訊：\n",
        "* 一付撲克牌有 4 個花色 ♣ ♦ ♥ ♠\n",
        "* 每個花色都各有 13 張牌，數字分別是\n",
        "\t A, 2, 3, 4, 5, 6, 7, 8, 9, J, Q, K\n",
        "\n",
        "### **測試案例：**\n",
        "\n",
        "**1. 案例一，參考輸入/輸出如下：**\n",
        "\n",
        "您的牌: [('♥', '3')], 目前點數: 3\n",
        "\n",
        "要拿牌(Hit)還是停牌(Stand)? (h/s): h\n",
        "\n",
        "您的牌: [('♥', '3'), ('♣', 'J')], 目前點數: 13\n",
        "\n",
        "要拿牌(Hit)還是停牌(Stand)? (h/s): h\n",
        "\n",
        "您的牌: [('♥', '3'), ('♣', 'J'), ('♠', '3')], 目前點數: 16\n",
        "\n",
        "要拿牌(Hit)還是停牌(Stand)? (h/s): s\n",
        "\n",
        "您最終的點數是: 16\n",
        "\n",
        "**2. 案例二，參考輸入/輸出如下：**\n",
        "\n",
        "您的牌: [('♥', 'A')], 目前點數: 11\n",
        "\n",
        "要拿牌(Hit)還是停牌(Stand)? (h/s): h\n",
        "\n",
        "您的牌: [('♥', 'A'), ('♦', '3')], 目前點數: 14\n",
        "\n",
        "要拿牌(Hit)還是停牌(Stand)? (h/s): h\n",
        "\n",
        "您的牌: [('♥', 'A'), ('♦', '3'), ('♥', 'K')], 目前點數: 14\n",
        "\n",
        "要拿牌(Hit)還是停牌(Stand)? (h/s): h\n",
        "\n",
        "您的牌: [('♥', 'A'), ('♦', '3'), ('♥', 'K'), ('♠', '9')], 目前點數: 23\n",
        "\n",
        "超過 21 點，您爆了!"
      ],
      "metadata": {
        "id": "NCqp5ZrEdU4G"
      }
    },
    {
      "cell_type": "code",
      "source": [
        "# # 請將您的程式寫在下面 👇👇👇\n",
        "import random\n",
        "\n",
        "def player_getcard():\n",
        "    card_num = random.choice(nums)  # 給牌的數字一個變數\n",
        "    card_color = random.choice(colors)  # 給牌的花色一個變數\n",
        "    card = [card_num, card_color]  # 合併出一張牌\n",
        "    a.append(card)\n",
        "    numlistP.append(card_num)\n",
        "\n",
        "def com_getcard():\n",
        "    card_num = random.choice(nums)  # 給牌的數字一個變數\n",
        "    card_color = random.choice(colors)  # 給牌的花色一個變數\n",
        "    card = [card_num, card_color]  # 合併出一張牌\n",
        "    b.append(card)\n",
        "    numlistC.append(card_num)\n",
        "\n",
        "def calculate_total(numlist):\n",
        "    total = 0\n",
        "    ace_count = 0\n",
        "    for num in numlist:\n",
        "        if num == 'A':\n",
        "            ace_count += 1\n",
        "            total += 11\n",
        "        else:\n",
        "            total += num\n",
        "    while total > 21 and ace_count > 0:\n",
        "        total -= 10\n",
        "        ace_count -= 1\n",
        "    return total\n",
        "\n",
        "numJ = 10\n",
        "numQ = 10\n",
        "numK = 10\n",
        "totalP = 0\n",
        "totalC = 0\n",
        "nums = [2, 3, 4, 5, 6, 7, 8, 9, 10, numJ, numQ, numK, 'A']  # 所有數字\n",
        "colors = ['Spade', 'Diamond', 'Heart', 'Club']  # 所有花色\n",
        "numlistP = []\n",
        "numlistC = []\n",
        "a = []\n",
        "b = []\n",
        "\n",
        "print(\"你的第一張牌\")\n",
        "player_getcard()\n",
        "print(a)\n",
        "totalP = calculate_total(numlistP)\n",
        "print(\"你的總點數:\", totalP)\n",
        "\n",
        "while totalP < 21:\n",
        "    ask = input(\"上面為你的牌，是否還要加一張牌(Hit)(y/n)\")\n",
        "    if ask == 'y':\n",
        "        player_getcard()\n",
        "        print(a)\n",
        "        totalP = calculate_total(numlistP)\n",
        "        print(\"你的總點數:\", totalP)\n",
        "        if totalP > 21:\n",
        "            print(\"Explode\")\n",
        "            break\n",
        "        elif totalP == 21:\n",
        "            print(\"BlackJack\")\n",
        "            break\n",
        "    elif ask == 'n':\n",
        "        print(\"輪莊家出牌\")\n",
        "        while totalC < 17:\n",
        "            com_getcard()\n",
        "            print(\"莊家的牌:\", b)\n",
        "            totalC = calculate_total(numlistC)\n",
        "            print(\"莊家的總點數:\", totalC)\n",
        "            if totalC > 21:\n",
        "                print(\"Explode, 恭喜玩家贏了\")\n",
        "                break\n",
        "            elif totalC == 21:\n",
        "                print(\"BlackJack, 莊家贏了\")\n",
        "                break\n",
        "        else:\n",
        "          break\n",
        "\n",
        "if totalP <= 21 and totalC <= 21:\n",
        "    if totalP > totalC:\n",
        "        print(\"恭喜玩家贏了\")\n",
        "    elif totalP < totalC:\n",
        "        print(\"莊家贏了\")\n",
        "    else:\n",
        "        print(\"平局\")\n",
        "\n"
      ],
      "metadata": {
        "id": "-FPZvsT_dO5T"
      },
      "execution_count": null,
      "outputs": []
    },
    {
      "cell_type": "markdown",
      "metadata": {
        "id": "0m_0bv9PKDCz"
      },
      "source": [
        "## ** [Simple Learn - Python for Beginners](https://simplelearn.tw/python-for-beginners/)  **\n",
        "\n",
        "### Author\n",
        "\n",
        "*Steven Lo*\n",
        "\n",
        "## Change Log\n",
        "\n",
        "| Date (YYYY-MM-DD) | Version | Changed By    | Change Description                 |\n",
        "| ----------------- | ------- | ------------- | ---------------------------------- |\n",
        "| 2024-04-02        | 1.0     | Steven Lo | Create             |\n",
        "|                   |         |               |                                    |\n",
        "\n",
        "## <h3 align=\"center\"> © KWANGCHIH 2024. All rights reserved. <h3/>"
      ]
    }
  ],
  "metadata": {
    "colab": {
      "provenance": [],
      "gpuType": "T4",
      "include_colab_link": true
    },
    "kernelspec": {
      "display_name": "Python 3",
      "name": "python3"
    },
    "language_info": {
      "codemirror_mode": {
        "name": "ipython",
        "version": 3
      },
      "file_extension": ".py",
      "mimetype": "text/x-python",
      "name": "python",
      "nbconvert_exporter": "python",
      "pygments_lexer": "ipython3",
      "version": "3.9.12"
    }
  },
  "nbformat": 4,
  "nbformat_minor": 0
}